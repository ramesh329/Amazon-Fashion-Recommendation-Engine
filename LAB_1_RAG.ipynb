{
  "cells": [
    {
      "cell_type": "markdown",
      "metadata": {
        "id": "view-in-github",
        "colab_type": "text"
      },
      "source": [
        "<a href=\"https://colab.research.google.com/github/ramesh329/Amazon-Fashion-Recommendation-Engine/blob/master/LAB_1_RAG.ipynb\" target=\"_parent\"><img src=\"https://colab.research.google.com/assets/colab-badge.svg\" alt=\"Open In Colab\"/></a>"
      ]
    },
    {
      "cell_type": "markdown",
      "id": "adbf511d-14d2-4b64-893c-de6234aff00e",
      "metadata": {
        "id": "adbf511d-14d2-4b64-893c-de6234aff00e"
      },
      "source": [
        "# LAB 1 (RAG): Create a GenAI Chatbot around your Resume\n",
        "\n",
        "In this notebook, we will look at pairing a powerful LLM with an advanced\n",
        "Retrieval-Augmented Generation (RAG) System. The primary and most immediate benefit\n",
        "from doing so is to \"ground\" large language models and minize the risk of any\n",
        "hallunications.\n",
        "\n",
        "By populating the context of our LLM with specific text data identified as relevant\n",
        "to the prompt, the model is more capable of being able to respond.\n",
        "\n",
        "Most of this notebook will leverage h2ogpte, which is a commercial product\n",
        "available from H2O.\n",
        "\n",
        "Let's begin!"
      ]
    },
    {
      "cell_type": "markdown",
      "id": "31a97725-7a33-4caa-8fd3-5f55de7503e7",
      "metadata": {
        "id": "31a97725-7a33-4caa-8fd3-5f55de7503e7"
      },
      "source": [
        "# Import Required Dependencies"
      ]
    },
    {
      "cell_type": "code",
      "execution_count": 1,
      "id": "e8de0443",
      "metadata": {
        "colab": {
          "base_uri": "https://localhost:8080/"
        },
        "id": "e8de0443",
        "outputId": "6de5b590-627c-4d30-80bf-ed339e06584d"
      },
      "outputs": [
        {
          "output_type": "stream",
          "name": "stdout",
          "text": [
            "Collecting h2ogpte==1.4.10\n",
            "  Downloading h2ogpte-1.4.10-py3-none-any.whl (45 kB)\n",
            "\u001b[2K     \u001b[90m━━━━━━━━━━━━━━━━━━━━━━━━━━━━━━━━━━━━━━━━\u001b[0m \u001b[32m45.6/45.6 kB\u001b[0m \u001b[31m607.5 kB/s\u001b[0m eta \u001b[36m0:00:00\u001b[0m\n",
            "\u001b[?25hCollecting aiofiles==23.2.1 (from h2ogpte==1.4.10)\n",
            "  Downloading aiofiles-23.2.1-py3-none-any.whl (15 kB)\n",
            "Collecting pydantic[dotenv]==2.5.2 (from h2ogpte==1.4.10)\n",
            "  Downloading pydantic-2.5.2-py3-none-any.whl (381 kB)\n",
            "\u001b[2K     \u001b[90m━━━━━━━━━━━━━━━━━━━━━━━━━━━━━━━━━━━━━━━━\u001b[0m \u001b[32m381.9/381.9 kB\u001b[0m \u001b[31m6.6 MB/s\u001b[0m eta \u001b[36m0:00:00\u001b[0m\n",
            "\u001b[?25hCollecting pydantic-settings==2.0.3 (from h2ogpte==1.4.10)\n",
            "  Downloading pydantic_settings-2.0.3-py3-none-any.whl (11 kB)\n",
            "Requirement already satisfied: requests==2.31.0 in /usr/local/lib/python3.10/dist-packages (from h2ogpte==1.4.10) (2.31.0)\n",
            "Collecting websockets==11.0.3 (from h2ogpte==1.4.10)\n",
            "  Downloading websockets-11.0.3-cp310-cp310-manylinux_2_5_x86_64.manylinux1_x86_64.manylinux_2_17_x86_64.manylinux2014_x86_64.whl (129 kB)\n",
            "\u001b[2K     \u001b[90m━━━━━━━━━━━━━━━━━━━━━━━━━━━━━━━━━━━━━━━━\u001b[0m \u001b[32m129.9/129.9 kB\u001b[0m \u001b[31m6.7 MB/s\u001b[0m eta \u001b[36m0:00:00\u001b[0m\n",
            "\u001b[?25hCollecting beautifulsoup4==4.12.2 (from h2ogpte==1.4.10)\n",
            "  Downloading beautifulsoup4-4.12.2-py3-none-any.whl (142 kB)\n",
            "\u001b[2K     \u001b[90m━━━━━━━━━━━━━━━━━━━━━━━━━━━━━━━━━━━━━━━━\u001b[0m \u001b[32m143.0/143.0 kB\u001b[0m \u001b[31m11.1 MB/s\u001b[0m eta \u001b[36m0:00:00\u001b[0m\n",
            "\u001b[?25hCollecting bs4==0.0.1 (from h2ogpte==1.4.10)\n",
            "  Downloading bs4-0.0.1.tar.gz (1.1 kB)\n",
            "  Preparing metadata (setup.py) ... \u001b[?25l\u001b[?25hdone\n",
            "Collecting lxml==4.9.3 (from h2ogpte==1.4.10)\n",
            "  Downloading lxml-4.9.3-cp310-cp310-manylinux_2_28_x86_64.whl (7.9 MB)\n",
            "\u001b[2K     \u001b[90m━━━━━━━━━━━━━━━━━━━━━━━━━━━━━━━━━━━━━━━━\u001b[0m \u001b[32m7.9/7.9 MB\u001b[0m \u001b[31m38.1 MB/s\u001b[0m eta \u001b[36m0:00:00\u001b[0m\n",
            "\u001b[?25hRequirement already satisfied: pandas>=1.3.5 in /usr/local/lib/python3.10/dist-packages (from h2ogpte==1.4.10) (2.0.3)\n",
            "Requirement already satisfied: packaging in /usr/local/lib/python3.10/dist-packages (from h2ogpte==1.4.10) (24.1)\n",
            "Collecting httpx==0.26.0 (from h2ogpte==1.4.10)\n",
            "  Downloading httpx-0.26.0-py3-none-any.whl (75 kB)\n",
            "\u001b[2K     \u001b[90m━━━━━━━━━━━━━━━━━━━━━━━━━━━━━━━━━━━━━━━━\u001b[0m \u001b[32m75.9/75.9 kB\u001b[0m \u001b[31m5.8 MB/s\u001b[0m eta \u001b[36m0:00:00\u001b[0m\n",
            "\u001b[?25hCollecting h2o-authn==2.0.0 (from h2ogpte==1.4.10)\n",
            "  Downloading h2o_authn-2.0.0-py3-none-any.whl (12 kB)\n",
            "Requirement already satisfied: soupsieve>1.2 in /usr/local/lib/python3.10/dist-packages (from beautifulsoup4==4.12.2->h2ogpte==1.4.10) (2.5)\n",
            "Requirement already satisfied: anyio in /usr/local/lib/python3.10/dist-packages (from httpx==0.26.0->h2ogpte==1.4.10) (3.7.1)\n",
            "Requirement already satisfied: certifi in /usr/local/lib/python3.10/dist-packages (from httpx==0.26.0->h2ogpte==1.4.10) (2024.6.2)\n",
            "Collecting httpcore==1.* (from httpx==0.26.0->h2ogpte==1.4.10)\n",
            "  Downloading httpcore-1.0.5-py3-none-any.whl (77 kB)\n",
            "\u001b[2K     \u001b[90m━━━━━━━━━━━━━━━━━━━━━━━━━━━━━━━━━━━━━━━━\u001b[0m \u001b[32m77.9/77.9 kB\u001b[0m \u001b[31m5.6 MB/s\u001b[0m eta \u001b[36m0:00:00\u001b[0m\n",
            "\u001b[?25hRequirement already satisfied: idna in /usr/local/lib/python3.10/dist-packages (from httpx==0.26.0->h2ogpte==1.4.10) (3.7)\n",
            "Requirement already satisfied: sniffio in /usr/local/lib/python3.10/dist-packages (from httpx==0.26.0->h2ogpte==1.4.10) (1.3.1)\n",
            "Requirement already satisfied: pydantic>=2.0.1 in /usr/local/lib/python3.10/dist-packages (from pydantic-settings==2.0.3->h2ogpte==1.4.10) (2.8.0)\n",
            "Collecting python-dotenv>=0.21.0 (from pydantic-settings==2.0.3->h2ogpte==1.4.10)\n",
            "  Downloading python_dotenv-1.0.1-py3-none-any.whl (19 kB)\n",
            "\u001b[33mWARNING: pydantic 2.5.2 does not provide the extra 'dotenv'\u001b[0m\u001b[33m\n",
            "\u001b[0mRequirement already satisfied: annotated-types>=0.4.0 in /usr/local/lib/python3.10/dist-packages (from pydantic[dotenv]==2.5.2->h2ogpte==1.4.10) (0.7.0)\n",
            "Collecting pydantic-core==2.14.5 (from pydantic[dotenv]==2.5.2->h2ogpte==1.4.10)\n",
            "  Downloading pydantic_core-2.14.5-cp310-cp310-manylinux_2_17_x86_64.manylinux2014_x86_64.whl (2.1 MB)\n",
            "\u001b[2K     \u001b[90m━━━━━━━━━━━━━━━━━━━━━━━━━━━━━━━━━━━━━━━━\u001b[0m \u001b[32m2.1/2.1 MB\u001b[0m \u001b[31m16.4 MB/s\u001b[0m eta \u001b[36m0:00:00\u001b[0m\n",
            "\u001b[?25hRequirement already satisfied: typing-extensions>=4.6.1 in /usr/local/lib/python3.10/dist-packages (from pydantic[dotenv]==2.5.2->h2ogpte==1.4.10) (4.12.2)\n",
            "Requirement already satisfied: charset-normalizer<4,>=2 in /usr/local/lib/python3.10/dist-packages (from requests==2.31.0->h2ogpte==1.4.10) (3.3.2)\n",
            "Requirement already satisfied: urllib3<3,>=1.21.1 in /usr/local/lib/python3.10/dist-packages (from requests==2.31.0->h2ogpte==1.4.10) (2.0.7)\n",
            "Collecting h11<0.15,>=0.13 (from httpcore==1.*->httpx==0.26.0->h2ogpte==1.4.10)\n",
            "  Downloading h11-0.14.0-py3-none-any.whl (58 kB)\n",
            "\u001b[2K     \u001b[90m━━━━━━━━━━━━━━━━━━━━━━━━━━━━━━━━━━━━━━━━\u001b[0m \u001b[32m58.3/58.3 kB\u001b[0m \u001b[31m5.9 MB/s\u001b[0m eta \u001b[36m0:00:00\u001b[0m\n",
            "\u001b[?25hRequirement already satisfied: python-dateutil>=2.8.2 in /usr/local/lib/python3.10/dist-packages (from pandas>=1.3.5->h2ogpte==1.4.10) (2.8.2)\n",
            "Requirement already satisfied: pytz>=2020.1 in /usr/local/lib/python3.10/dist-packages (from pandas>=1.3.5->h2ogpte==1.4.10) (2023.4)\n",
            "Requirement already satisfied: tzdata>=2022.1 in /usr/local/lib/python3.10/dist-packages (from pandas>=1.3.5->h2ogpte==1.4.10) (2024.1)\n",
            "Requirement already satisfied: numpy>=1.21.0 in /usr/local/lib/python3.10/dist-packages (from pandas>=1.3.5->h2ogpte==1.4.10) (1.25.2)\n",
            "Requirement already satisfied: six>=1.5 in /usr/local/lib/python3.10/dist-packages (from python-dateutil>=2.8.2->pandas>=1.3.5->h2ogpte==1.4.10) (1.16.0)\n",
            "Requirement already satisfied: exceptiongroup in /usr/local/lib/python3.10/dist-packages (from anyio->httpx==0.26.0->h2ogpte==1.4.10) (1.2.1)\n",
            "Building wheels for collected packages: bs4\n",
            "  Building wheel for bs4 (setup.py) ... \u001b[?25l\u001b[?25hdone\n",
            "  Created wheel for bs4: filename=bs4-0.0.1-py3-none-any.whl size=1255 sha256=5ef7c5658746bceb5894cf610d9d39bf6bf5301c59b6ae975a7e6d01bd30dcfe\n",
            "  Stored in directory: /root/.cache/pip/wheels/25/42/45/b773edc52acb16cd2db4cf1a0b47117e2f69bb4eb300ed0e70\n",
            "Successfully built bs4\n",
            "Installing collected packages: websockets, python-dotenv, pydantic-core, lxml, h11, beautifulsoup4, aiofiles, pydantic, httpcore, bs4, pydantic-settings, httpx, h2o-authn, h2ogpte\n",
            "  Attempting uninstall: pydantic-core\n",
            "    Found existing installation: pydantic_core 2.20.0\n",
            "    Uninstalling pydantic_core-2.20.0:\n",
            "      Successfully uninstalled pydantic_core-2.20.0\n",
            "  Attempting uninstall: lxml\n",
            "    Found existing installation: lxml 4.9.4\n",
            "    Uninstalling lxml-4.9.4:\n",
            "      Successfully uninstalled lxml-4.9.4\n",
            "  Attempting uninstall: beautifulsoup4\n",
            "    Found existing installation: beautifulsoup4 4.12.3\n",
            "    Uninstalling beautifulsoup4-4.12.3:\n",
            "      Successfully uninstalled beautifulsoup4-4.12.3\n",
            "  Attempting uninstall: pydantic\n",
            "    Found existing installation: pydantic 2.8.0\n",
            "    Uninstalling pydantic-2.8.0:\n",
            "      Successfully uninstalled pydantic-2.8.0\n",
            "Successfully installed aiofiles-23.2.1 beautifulsoup4-4.12.2 bs4-0.0.1 h11-0.14.0 h2o-authn-2.0.0 h2ogpte-1.4.10 httpcore-1.0.5 httpx-0.26.0 lxml-4.9.3 pydantic-2.5.2 pydantic-core-2.14.5 pydantic-settings-2.0.3 python-dotenv-1.0.1 websockets-11.0.3\n"
          ]
        }
      ],
      "source": [
        "pip install h2ogpte==1.4.10"
      ]
    },
    {
      "cell_type": "code",
      "execution_count": 2,
      "id": "8d37744e",
      "metadata": {
        "id": "8d37744e"
      },
      "outputs": [],
      "source": [
        "from h2ogpte import H2OGPTE\n",
        "import os\n",
        "import time"
      ]
    },
    {
      "cell_type": "markdown",
      "id": "b3342ba0",
      "metadata": {
        "id": "b3342ba0"
      },
      "source": [
        "# Accessing Enterprise h2oGPT\n",
        "\n",
        "Enterprise h2oGPTe is an advanced system that can intelligently process text,\n",
        "audio and image (with text) data. It's built using years of experience with\n",
        "applying AI to Documents, which has now evolved into a system capable of\n",
        "\n",
        "As a worked out exercise, we will show how someone with a LinkedIn profile\n",
        "can download their profile as a PDF and upload it into h2ogpte.\n",
        "\n",
        "The following screenshots show how to do so in the UI, but we will provide\n",
        "programmatic examples as well."
      ]
    },
    {
      "cell_type": "markdown",
      "id": "9d72d961",
      "metadata": {
        "id": "9d72d961"
      },
      "source": [
        "## Step 1 - Download any document from the internet.\n"
      ]
    },
    {
      "cell_type": "markdown",
      "id": "e156c859",
      "metadata": {
        "id": "e156c859"
      },
      "source": [
        "## Step 2 - Create a new collection\n",
        "![Image of h2oGPTe](https://i.imgur.com/VMHc4zq.png)"
      ]
    },
    {
      "cell_type": "markdown",
      "id": "0a8325aa",
      "metadata": {
        "id": "0a8325aa"
      },
      "source": [
        "## Step 3 - Name it `MyProfile`\n",
        "![Image of h2oGPTe](https://i.imgur.com/Z07JF2q.png)"
      ]
    },
    {
      "cell_type": "markdown",
      "id": "b90e4f42",
      "metadata": {
        "id": "b90e4f42"
      },
      "source": [
        "## Step 4 - Upload your PDF\n",
        "![Image of h2oGPTe](https://i.imgur.com/CDiCgJl.png)"
      ]
    },
    {
      "cell_type": "markdown",
      "id": "0a0350f6",
      "metadata": {
        "id": "0a0350f6"
      },
      "source": [
        "\n",
        "At this point, h2ogpte will begin indexing, chunking and storing your text data\n",
        "into the vector database.\n",
        "\n",
        "Once complete, you will be able to begin conversing with it and other possible\n",
        "interactions.\n",
        "\n",
        "In the future, you can use the following code example to upload your data as well.\n",
        "\n",
        "# Programmatic Upload\n",
        "\n",
        "```python\n",
        "    collection_id = h2ogpte.create_collection(name=\"MyProfile\", description = \"My Experiences\")\n",
        "\n",
        "    f = open(\"Profile.pdf\",'rb')\n",
        "    uf = h2ogpte.upload(\"Profile.pdf\",f)\n",
        "    h2ogpte.ingest_uploads(collection_id, [uf])\n",
        "```"
      ]
    },
    {
      "cell_type": "markdown",
      "id": "5c452703",
      "metadata": {
        "id": "5c452703"
      },
      "source": [
        "# Step 5 - Visit the UI and Generate an API Key for the Python API\n",
        "\n",
        "Enterprise h2oGPT comes with a Python client that enables you to leverage the\n",
        "power of an advanced RAG system in virtually any setting. Any application can\n",
        "now be enhanced with AI."
      ]
    },
    {
      "cell_type": "code",
      "execution_count": 3,
      "id": "2ba47dec",
      "metadata": {
        "id": "2ba47dec"
      },
      "outputs": [],
      "source": [
        "# Authenticate\n",
        "\n",
        "## TODO - UPDATE HERE\n",
        "\n",
        "rag_url = 'https://h2ogpte.genai-training.h2o.ai/'\n",
        "rag_key = 'sk-02sPDMKXbQ90byJLbv5RKyms1KlwSvZ8k81vaNQ2l6BrHIeP'\n",
        "\n",
        "h2ogpte = H2OGPTE(address=rag_url, api_key=rag_key)"
      ]
    },
    {
      "cell_type": "code",
      "execution_count": 4,
      "id": "ded7b02f",
      "metadata": {
        "colab": {
          "base_uri": "https://localhost:8080/"
        },
        "id": "ded7b02f",
        "outputId": "153fc9f5-ddb8-4d6c-d4d5-d38aa1b09033"
      },
      "outputs": [
        {
          "output_type": "execute_result",
          "data": {
            "text/plain": [
              "[CollectionInfo(id='c7945ff7-1afa-4815-9af7-20ffee600c21', name='Test', description='Citigroup reported a decrease in net income for Q1 2024 due to higher expenses, higher cost of credit, and lower revenues, compared to Q1 2023.', document_count=1, document_size=371296, updated_at=datetime.datetime(2024, 7, 12, 7, 6, 11, 607826, tzinfo=TzInfo(UTC)), user_count=1, is_public=False, username='citibe07121085', sessions_count=4),\n",
              " CollectionInfo(id='8f89a88c-ba07-4c38-8a84-e296f976d0a4', name='MyProfile', description='Test collection', document_count=1, document_size=4431864, updated_at=datetime.datetime(2024, 7, 10, 7, 38, 27, 740998, tzinfo=TzInfo(UTC)), user_count=1, is_public=True, username='genaicitipune081', sessions_count=2),\n",
              " CollectionInfo(id='13cec3d2-2d50-4631-b871-8482e2af6d08', name='Citi Q1 Test', description='Citi Q1', document_count=1, document_size=371296, updated_at=datetime.datetime(2024, 7, 10, 7, 22, 24, 32733, tzinfo=TzInfo(UTC)), user_count=1, is_public=True, username='citich0710099', sessions_count=73),\n",
              " CollectionInfo(id='e6ac5a67-0d21-4552-98e6-7868b6ad0114', name='Citi Q1', description=\"Citigroup's first quarter 2024 financial results showed a 2% decrease in reported revenues to $21.1 billion, driven by growth in Banking, USPB, and Services, partially offset by declines in Markets and Wealth, with net income of $3.4 billion and a 13.5% CET1 Capital ratio.\", document_count=2, document_size=1950087, updated_at=datetime.datetime(2024, 7, 10, 7, 22, 8, 488738, tzinfo=TzInfo(UTC)), user_count=1, is_public=True, username='citich0710006', sessions_count=5),\n",
              " CollectionInfo(id='c7719b49-0eae-4a49-969c-80dfe37d3f06', name='T20 World Cup', description=\"The 2021 ICC Men's T20 World Cup, originally scheduled to be held in India, was relocated to the United Arab Emirates and Oman due to concerns over the COVID-19 pandemic situation in India, with Australia winning the tournament by beating New Zealand in the final.\", document_count=2, document_size=2239968, updated_at=datetime.datetime(2024, 7, 5, 8, 19, 52, 712002, tzinfo=TzInfo(UTC)), user_count=1, is_public=True, username='genaicitipune038', sessions_count=64)]"
            ]
          },
          "metadata": {},
          "execution_count": 4
        }
      ],
      "source": [
        "# List collections\n",
        "h2ogpte.list_recent_collections(0, 5)"
      ]
    },
    {
      "cell_type": "code",
      "execution_count": 10,
      "id": "3e1fbdf6",
      "metadata": {
        "colab": {
          "base_uri": "https://localhost:8080/",
          "height": 35
        },
        "id": "3e1fbdf6",
        "outputId": "98b4a75a-9f34-4d05-de31-cf9ac3eaf13f"
      },
      "outputs": [
        {
          "output_type": "execute_result",
          "data": {
            "text/plain": [
              "'c7945ff7-1afa-4815-9af7-20ffee600c21'"
            ],
            "application/vnd.google.colaboratory.intrinsic+json": {
              "type": "string"
            }
          },
          "metadata": {},
          "execution_count": 10
        }
      ],
      "source": [
        "# Establish Collection Name\n",
        "\n",
        "## TODO - UPDATE HERE - collection Name\n",
        "COLLECTION_NAME = 'Test'\n",
        "collections = h2ogpte.list_recent_collections(0, 20)\n",
        "\n",
        "# Identify collection id\n",
        "collection_id = [i.id for i in collections if COLLECTION_NAME.lower() in i.name.lower()][0]\n",
        "collection_id"
      ]
    },
    {
      "cell_type": "markdown",
      "id": "b373d8a1",
      "metadata": {
        "id": "b373d8a1"
      },
      "source": [
        "# What is now possible?\n",
        "\n",
        "Behind the scenes, h2ogpte is powered by several LLMs and other models. This\n",
        "enables a wide array of possible actions and fascinating ways of using\n",
        "artificial intelligence for your business or application.\n",
        "\n",
        "Let's see how well it can understand us and how it can help with career\n",
        "development."
      ]
    },
    {
      "cell_type": "code",
      "execution_count": 11,
      "id": "acb5ac2b",
      "metadata": {
        "id": "acb5ac2b"
      },
      "outputs": [],
      "source": [
        "queries = [\n",
        "            \"What is presented in the document?\",\n",
        "            \"What does the report conclude?\",\n",
        "            \"Summarize the document.\"\n",
        "            ]"
      ]
    },
    {
      "cell_type": "code",
      "execution_count": 12,
      "id": "59f43977",
      "metadata": {
        "colab": {
          "base_uri": "https://localhost:8080/"
        },
        "id": "59f43977",
        "outputId": "688d188c-d9e2-4f0c-8950-255576b72ab9"
      },
      "outputs": [
        {
          "output_type": "stream",
          "name": "stdout",
          "text": [
            "Q1: What is presented in the document?\n",
            "A1:The document presents financial information related to Citigroup's first quarter 2024 earnings release. It includes details about Citigroup's net income, cost of credit, revenues, expenses, tangible book value per share, common equity tier 1 (CET1) capital ratio, supplementary leverage ratio (SLR), and other financial metrics. The document also provides information about Citigroup's various business segments, such as Investment Banking, Corporate Lending, Treasury and Trade Solutions, Securities Services, and Wealth. Additionally, the document includes forward-looking statements regarding Citigroup's future financial performance and potential risks and uncertainties that could impact its results.\n",
            "Q2: What does the report conclude?\n",
            "A2:The report concludes that Citigroup's net income for the first quarter of 2024 was $3.4 billion, a decrease from $4.6 billion in the prior-year period. The decrease was primarily driven by higher expenses, higher cost of credit, and lower revenues. Revenues decreased 2% from the prior-year period, but excluding divestiture-related impacts, they were up 3% year over year. The increase in revenues was driven by growth across Banking, U.S. Personal Banking, and Services, partially offset by declines in Markets and Wealth. The report also highlights the impact of repositioning costs, an incremental FDIC special assessment, and restructuring charges on operating expenses. Additionally, the report notes that Citigroup's book value per share and tangible book value per share increased 3% versus the prior-year period.\n",
            "Q3: Summarize the document.\n",
            "A3:The document provides information about Citigroup's financial results for the first quarter of 2024. The company reported net income of $3.4 billion, or $1.58 per diluted share, on revenues of $21.1 billion. This compares to net income of $4.6 billion, or $2.19 per diluted share, on revenues of $21.4 billion for the first quarter of 2023. The decrease in net income was primarily driven by higher expenses, higher cost of credit, and lower revenues.\n",
            "\n",
            "The document also includes information about Citigroup's cost of credit, which was approximately $2.4 billion in the first quarter of 2024, compared to $2.0 billion in the prior-year period. The increase was primarily driven by higher cards net credit losses, partially offset by a lower allowance for credit losses (ACL) build.\n",
            "\n",
            "The document also provides information about Citigroup's allowance for credit losses, which was approximately $21.8 billion at quarter end, compared to $19.8 billion at the end of the prior-year period. The total allowance for credit losses on loans was approximately $18.3 billion at quarter end, compared to $17.2 billion at the end of the prior-year period.\n",
            "\n",
            "The document also includes information about Citigroup's non-accrual loans, which increased 6% from the prior-year period to $2.8 billion. Corporate non-accrual loans increased 23% to $1.5 billion, while consumer non-accrual loans decreased 8% from the prior-year period to $1.3 billion.\n",
            "\n",
            "The document also provides information about Citigroup's conference call, which will be held at 11:00 AM (ET) on the day of the release. A live webcast of the presentation, as well as financial results and presentation materials, will be available at <https://www.citigroup.com/global/investors> and <https://www.veracast.com/webcasts/citigroup/webinars/Citi1Q24.cfm>. Additional financial, statistical, and business-related information is also included in the earnings release and on Citigroup's website.\n"
          ]
        }
      ],
      "source": [
        "for i, q in enumerate(queries):\n",
        "    print(f\"Q{i+1}: {q}\")\n",
        "    chat_session_id = h2ogpte.create_chat_session(collection_id) # This is the collection_id we uploaded\n",
        "    with h2ogpte.connect(chat_session_id) as session:\n",
        "        reply = session.query(q,timeout=10600)\n",
        "        print(f\"A{i+1}:{reply.content}\")"
      ]
    },
    {
      "cell_type": "markdown",
      "id": "fzgCwSz-SFB_",
      "metadata": {
        "id": "fzgCwSz-SFB_"
      },
      "source": [
        "# Performing prompt engineering"
      ]
    },
    {
      "cell_type": "code",
      "source": [],
      "metadata": {
        "id": "5Bx2tGlepNTV"
      },
      "id": "5Bx2tGlepNTV",
      "execution_count": null,
      "outputs": []
    },
    {
      "cell_type": "code",
      "execution_count": 8,
      "id": "R-VQeKCzSNog",
      "metadata": {
        "colab": {
          "base_uri": "https://localhost:8080/"
        },
        "id": "R-VQeKCzSNog",
        "outputId": "c6f62057-d36e-467b-99be-8b480988e05f"
      },
      "outputs": [
        {
          "output_type": "stream",
          "name": "stdout",
          "text": [
            "Q1: What is presented in the document?\n",
            "A1:The document presents Citigroup's first quarter 2024 financial results, including net income, revenues, cost of credit, and various financial metrics. It also discusses the impact of organizational simplification initiatives and provides information about Citigroup's business segments and operations. Additionally, the document includes forward-looking statements and information about the company's upcoming conference call.\n",
            "Q2: What does the report conclude?\n",
            "A2:The report concludes that Citigroup's net income for the first quarter of 2024 was $3.4 billion, a decrease from the net income of $4.6 billion in the first quarter of 2023. The decrease was primarily driven by higher expenses, higher cost of credit, and lower revenues. The report also highlights the impact of organizational simplification, central bank interest rate policies, regulatory capital rules, inflation, and geopolitical conflicts on Citigroup's financial performance.\n",
            "Q3: Summarize the document.\n",
            "A3:Citigroup reported Q1 2024 net income of $3.4 billion, a decrease of 27% YoY due to higher expenses, higher cost of credit, and lower revenues. Revenues decreased 2% YoY to $21.1 billion, with growth in Banking, USPB, and Services offset by declines in Markets and Wealth. Cost of credit was $2.4 billion, up from $2.0 billion in Q1 2023, primarily due to higher cards net credit losses. The effective tax rate remained unchanged at 25%. Total allowance for credit losses was $21.8 billion, up from $19.8 billion in Q1 2023. Total non-accrual loans increased 6% to $2.8 billion. Citigroup will host a conference call to discuss the results.\n"
          ]
        }
      ],
      "source": [
        "prompt_query = \"According to only the information in the document sources provided within the context above, and answering in short and crisp language, \"\n",
        "\n",
        "for i, q in enumerate(queries):\n",
        "    print(f\"Q{i+1}: {q}\")\n",
        "    chat_session_id = h2ogpte.create_chat_session(collection_id) # This is the collection_id we uploaded\n",
        "    with h2ogpte.connect(chat_session_id) as session:\n",
        "        reply = session.query(q,prompt_query=prompt_query,pre_prompt_query=\"As an AI agent\", timeout=10600)\n",
        "        print(f\"A{i+1}:{reply.content}\")"
      ]
    },
    {
      "cell_type": "code",
      "execution_count": 9,
      "id": "9cdc9bdc",
      "metadata": {
        "id": "9cdc9bdc",
        "outputId": "e70a9f37-6243-49c1-9ead-47e7d95c1919",
        "colab": {
          "base_uri": "https://localhost:8080/"
        }
      },
      "outputs": [
        {
          "output_type": "stream",
          "name": "stdout",
          "text": [
            "Q1:  Return only 3 hashtags about the person this profile belongs to as a JSON with a single field called hashtags. Do not use the persons name as a hashtag\n",
            "A1:{\n",
            "\"hashtags\": [\n",
            "\"#CitigroupCEO\",\n",
            "\"#FinanceIndustry\",\n",
            "\"#BusinessLeader\"\n",
            "]\n",
            "}\n"
          ]
        }
      ],
      "source": [
        "system_prompt = \"You are a helpful AI Assistant and your goal is to extract hashtags\"\n",
        "prompt_query = \"According to only the information in the document sources provided within the context above, \"\n",
        "queries = [\" Return only 3 hashtags about the person this profile belongs to as a JSON with a single field called hashtags. Do not use the persons name as a hashtag\"]\n",
        "\n",
        "for i, q in enumerate(queries):\n",
        "    print(f\"Q{i+1}: {q}\")\n",
        "    chat_session_id = h2ogpte.create_chat_session(collection_id) # This is the collection_id we uploaded\n",
        "    with h2ogpte.connect(chat_session_id) as session:\n",
        "        reply = session.query(q,prompt_query=prompt_query,pre_prompt_query=\"As an AI agent\", system_prompt=system_prompt, timeout=10600)\n",
        "        print(f\"A{i+1}:{reply.content}\")"
      ]
    },
    {
      "cell_type": "markdown",
      "id": "0f34adfe",
      "metadata": {
        "id": "0f34adfe"
      },
      "source": [
        "# 🎉 **CONGRATULATIONS!** You have completed this lab!\n",
        "---"
      ]
    },
    {
      "cell_type": "markdown",
      "id": "05d3b474",
      "metadata": {
        "id": "05d3b474"
      },
      "source": [
        "# 📚 **EXTENDED TASKS**\n",
        "\n",
        "We've barely scratched the surface of evaluating Large Language Models here.\n",
        "\n",
        "\n",
        "# H2O Enterprise GPT\n",
        "\n",
        "Other notable functionality out of the box\n",
        "\n",
        "- Embed your own question and get the similarity.\n",
        "- NLP Extraction Using LLMs\n",
        "- Text Summarization API\n",
        "- Choose between Lexical and Semantic Search\n",
        "- Retrieve specific text chunks - e.g. extract the title from the first chunk\n",
        "- Return the cosine similarity between two chunks\n",
        "- When searching, a user can include only certain documents (parameter name is topic id)"
      ]
    }
  ],
  "metadata": {
    "colab": {
      "provenance": [],
      "include_colab_link": true
    },
    "kernelspec": {
      "display_name": "Python",
      "language": "python",
      "name": "python_kubernetes"
    },
    "language_info": {
      "codemirror_mode": {
        "name": "ipython",
        "version": 3
      },
      "file_extension": ".py",
      "mimetype": "text/x-python",
      "name": "python",
      "nbconvert_exporter": "python",
      "pygments_lexer": "ipython3",
      "version": "3.10.9"
    }
  },
  "nbformat": 4,
  "nbformat_minor": 5
}